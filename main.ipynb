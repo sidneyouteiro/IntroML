{
 "cells": [
  {
   "cell_type": "markdown",
   "metadata": {},
   "source": [
    "# Importações"
   ]
  },
  {
   "cell_type": "code",
   "execution_count": 1,
   "metadata": {},
   "outputs": [],
   "source": [
    "import os\n",
    "import librosa\n",
    "\n",
    "import numpy as np\n",
    "import pandas as pd\n",
    "import matplotlib.pyplot as plt\n",
    "import IPython.display as ipd\n",
    "\n",
    "from scipy.io import wavfile\n",
    "\n",
    "from sklearn.preprocessing import LabelEncoder\n",
    "from sklearn.model_selection import train_test_split\n",
    "\n",
    "from keras import backend as K\n",
    "from keras.utils import np_utils\n",
    "from keras.layers import Bidirectional, BatchNormalization, GRU, TimeDistributed\n",
    "from keras.layers import Dense, Dropout, Flatten, Conv1D, Input, MaxPooling1D\n",
    "from keras.models import Model\n",
    "from keras.callbacks import EarlyStopping, ModelCheckpoint\n",
    "\n",
    "import warnings\n",
    "warnings.filterwarnings(\"ignore\")"
   ]
  },
  {
   "cell_type": "markdown",
   "metadata": {},
   "source": [
    "# Separando arquivos de audio"
   ]
  },
  {
   "cell_type": "code",
   "execution_count": 2,
   "metadata": {},
   "outputs": [
    {
     "data": {
      "text/html": [
       "<div>\n",
       "<style scoped>\n",
       "    .dataframe tbody tr th:only-of-type {\n",
       "        vertical-align: middle;\n",
       "    }\n",
       "\n",
       "    .dataframe tbody tr th {\n",
       "        vertical-align: top;\n",
       "    }\n",
       "\n",
       "    .dataframe thead th {\n",
       "        text-align: right;\n",
       "    }\n",
       "</style>\n",
       "<table border=\"1\" class=\"dataframe\">\n",
       "  <thead>\n",
       "    <tr style=\"text-align: right;\">\n",
       "      <th></th>\n",
       "      <th>wav_filename</th>\n",
       "      <th>transcript</th>\n",
       "    </tr>\n",
       "  </thead>\n",
       "  <tbody>\n",
       "    <tr>\n",
       "      <th>0</th>\n",
       "      <td>wavs/sample-631.wav</td>\n",
       "      <td>Depois que foi atropelado, só atravessa na fai...</td>\n",
       "    </tr>\n",
       "    <tr>\n",
       "      <th>1</th>\n",
       "      <td>wavs/sample-2757.wav</td>\n",
       "      <td>A cidade também tem uma instituição de ensino ...</td>\n",
       "    </tr>\n",
       "    <tr>\n",
       "      <th>2</th>\n",
       "      <td>wavs/sample-5578.wav</td>\n",
       "      <td>Também os astronautas depressa se juntaram às...</td>\n",
       "    </tr>\n",
       "    <tr>\n",
       "      <th>3</th>\n",
       "      <td>wavs/sample-3712.wav</td>\n",
       "      <td>Nessa idade, começou a praticar balé.</td>\n",
       "    </tr>\n",
       "    <tr>\n",
       "      <th>4</th>\n",
       "      <td>wavs/sample-3434.wav</td>\n",
       "      <td>Um exemplo de conhecimento de terceiro tipo é...</td>\n",
       "    </tr>\n",
       "  </tbody>\n",
       "</table>\n",
       "</div>"
      ],
      "text/plain": [
       "           wav_filename                                         transcript\n",
       "0   wavs/sample-631.wav  Depois que foi atropelado, só atravessa na fai...\n",
       "1  wavs/sample-2757.wav  A cidade também tem uma instituição de ensino ...\n",
       "2  wavs/sample-5578.wav   Também os astronautas depressa se juntaram às...\n",
       "3  wavs/sample-3712.wav              Nessa idade, começou a praticar balé.\n",
       "4  wavs/sample-3434.wav   Um exemplo de conhecimento de terceiro tipo é..."
      ]
     },
     "execution_count": 2,
     "metadata": {},
     "output_type": "execute_result"
    }
   ],
   "source": [
    "train = pd.read_csv(\n",
    "    \"./TTS-Portuguese-Corpus_22khz/train_TTS-Portuguese_Corpus_metadata.csv\", \n",
    "    sep = \"|\",\n",
    "    index_col = False\n",
    ")\n",
    "\n",
    "train = train[['wav_filename','transcript']]\n",
    "train.head()"
   ]
  },
  {
   "cell_type": "code",
   "execution_count": 3,
   "metadata": {},
   "outputs": [
    {
     "data": {
      "text/html": [
       "<div>\n",
       "<style scoped>\n",
       "    .dataframe tbody tr th:only-of-type {\n",
       "        vertical-align: middle;\n",
       "    }\n",
       "\n",
       "    .dataframe tbody tr th {\n",
       "        vertical-align: top;\n",
       "    }\n",
       "\n",
       "    .dataframe thead th {\n",
       "        text-align: right;\n",
       "    }\n",
       "</style>\n",
       "<table border=\"1\" class=\"dataframe\">\n",
       "  <thead>\n",
       "    <tr style=\"text-align: right;\">\n",
       "      <th></th>\n",
       "      <th>wav_filename</th>\n",
       "      <th>transcript</th>\n",
       "    </tr>\n",
       "  </thead>\n",
       "  <tbody>\n",
       "    <tr>\n",
       "      <th>0</th>\n",
       "      <td>wavs/sample-5672.wav</td>\n",
       "      <td>A juventude tinha que revolucionar a escola</td>\n",
       "    </tr>\n",
       "    <tr>\n",
       "      <th>1</th>\n",
       "      <td>wavs/sample-5655.wav</td>\n",
       "      <td>A inauguração da vila é quarta ou quinta-feira</td>\n",
       "    </tr>\n",
       "    <tr>\n",
       "      <th>2</th>\n",
       "      <td>wavs/sample-5656.wav</td>\n",
       "      <td>Vote se você tiver o título de eleitor</td>\n",
       "    </tr>\n",
       "    <tr>\n",
       "      <th>3</th>\n",
       "      <td>wavs/sample-5755.wav</td>\n",
       "      <td>A inauguração da vila é quarta ou quinta-feira.</td>\n",
       "    </tr>\n",
       "    <tr>\n",
       "      <th>4</th>\n",
       "      <td>wavs/sample-5659.wav</td>\n",
       "      <td>Em muitas cidades a população está diminuindo.</td>\n",
       "    </tr>\n",
       "  </tbody>\n",
       "</table>\n",
       "</div>"
      ],
      "text/plain": [
       "           wav_filename                                       transcript\n",
       "0  wavs/sample-5672.wav      A juventude tinha que revolucionar a escola\n",
       "1  wavs/sample-5655.wav   A inauguração da vila é quarta ou quinta-feira\n",
       "2  wavs/sample-5656.wav           Vote se você tiver o título de eleitor\n",
       "3  wavs/sample-5755.wav  A inauguração da vila é quarta ou quinta-feira.\n",
       "4  wavs/sample-5659.wav   Em muitas cidades a população está diminuindo."
      ]
     },
     "execution_count": 3,
     "metadata": {},
     "output_type": "execute_result"
    }
   ],
   "source": [
    "test = pd.read_csv(\"./TTS-Portuguese-Corpus_22khz/test_TTS-Portuguese_Corpus_metadata.csv\", sep = \"|\",\n",
    "    index_col = False)\n",
    "\n",
    "test = test[['wav_filename','transcript']]\n",
    "test.head()"
   ]
  },
  {
   "cell_type": "markdown",
   "metadata": {},
   "source": [
    "# Usando librosa para converter arquivos de audio"
   ]
  },
  {
   "cell_type": "markdown",
   "metadata": {},
   "source": [
    "https://librosa.org/doc/latest/generated/librosa.load.html"
   ]
  },
  {
   "cell_type": "code",
   "execution_count": 4,
   "metadata": {},
   "outputs": [],
   "source": [
    "dir_path = './TTS-Portuguese-Corpus_22khz/'\n",
    "wav_paths = train['wav_filename']\n",
    "\n",
    "all_waves = []\n",
    "len_8000_waves = []\n",
    "\n",
    "for index, wav_path in enumerate(wav_paths):\n",
    "    samples, sample_rate = librosa.load(dir_path + wav_path)\n",
    "    samples = librosa.resample(samples, orig_sr=sample_rate, target_sr = 8000)\n",
    "    \n",
    "    all_waves.append((samples, train.loc[index,'transcript']))\n",
    "\n",
    "    if(len(samples) == 8000):\n",
    "        len_8000_waves.append((samples, train.loc[index,'transcript']))"
   ]
  },
  {
   "cell_type": "code",
   "execution_count": 5,
   "metadata": {},
   "outputs": [
    {
     "data": {
      "text/html": [
       "<div>\n",
       "<style scoped>\n",
       "    .dataframe tbody tr th:only-of-type {\n",
       "        vertical-align: middle;\n",
       "    }\n",
       "\n",
       "    .dataframe tbody tr th {\n",
       "        vertical-align: top;\n",
       "    }\n",
       "\n",
       "    .dataframe thead th {\n",
       "        text-align: right;\n",
       "    }\n",
       "</style>\n",
       "<table border=\"1\" class=\"dataframe\">\n",
       "  <thead>\n",
       "    <tr style=\"text-align: right;\">\n",
       "      <th></th>\n",
       "      <th>tensor</th>\n",
       "      <th>transcript</th>\n",
       "    </tr>\n",
       "  </thead>\n",
       "  <tbody>\n",
       "    <tr>\n",
       "      <th>0</th>\n",
       "      <td>[-0.0002558262, 0.007106832, 0.015172318, 0.01...</td>\n",
       "      <td>Depois que foi atropelado, só atravessa na fai...</td>\n",
       "    </tr>\n",
       "    <tr>\n",
       "      <th>1</th>\n",
       "      <td>[0.0007501879, -5.3689382e-05, -0.0017680669, ...</td>\n",
       "      <td>A cidade também tem uma instituição de ensino ...</td>\n",
       "    </tr>\n",
       "    <tr>\n",
       "      <th>2</th>\n",
       "      <td>[0.018647028, 0.036927525, 0.04546329, 0.04682...</td>\n",
       "      <td>Também os astronautas depressa se juntaram às...</td>\n",
       "    </tr>\n",
       "    <tr>\n",
       "      <th>3</th>\n",
       "      <td>[0.001063928, 0.0019695, 0.0022690534, 0.00247...</td>\n",
       "      <td>Nessa idade, começou a praticar balé.</td>\n",
       "    </tr>\n",
       "    <tr>\n",
       "      <th>4</th>\n",
       "      <td>[0.0063640825, 0.00304457, -0.010580226, -0.02...</td>\n",
       "      <td>Um exemplo de conhecimento de terceiro tipo é...</td>\n",
       "    </tr>\n",
       "  </tbody>\n",
       "</table>\n",
       "</div>"
      ],
      "text/plain": [
       "                                              tensor  \\\n",
       "0  [-0.0002558262, 0.007106832, 0.015172318, 0.01...   \n",
       "1  [0.0007501879, -5.3689382e-05, -0.0017680669, ...   \n",
       "2  [0.018647028, 0.036927525, 0.04546329, 0.04682...   \n",
       "3  [0.001063928, 0.0019695, 0.0022690534, 0.00247...   \n",
       "4  [0.0063640825, 0.00304457, -0.010580226, -0.02...   \n",
       "\n",
       "                                          transcript  \n",
       "0  Depois que foi atropelado, só atravessa na fai...  \n",
       "1  A cidade também tem uma instituição de ensino ...  \n",
       "2   Também os astronautas depressa se juntaram às...  \n",
       "3              Nessa idade, começou a praticar balé.  \n",
       "4   Um exemplo de conhecimento de terceiro tipo é...  "
      ]
     },
     "execution_count": 5,
     "metadata": {},
     "output_type": "execute_result"
    }
   ],
   "source": [
    "all_waves_df = pd.DataFrame(all_waves, columns = ['tensor', 'transcript'])\n",
    "all_waves_df.head()"
   ]
  },
  {
   "cell_type": "code",
   "execution_count": 6,
   "metadata": {},
   "outputs": [
    {
     "data": {
      "text/html": [
       "<div>\n",
       "<style scoped>\n",
       "    .dataframe tbody tr th:only-of-type {\n",
       "        vertical-align: middle;\n",
       "    }\n",
       "\n",
       "    .dataframe tbody tr th {\n",
       "        vertical-align: top;\n",
       "    }\n",
       "\n",
       "    .dataframe thead th {\n",
       "        text-align: right;\n",
       "    }\n",
       "</style>\n",
       "<table border=\"1\" class=\"dataframe\">\n",
       "  <thead>\n",
       "    <tr style=\"text-align: right;\">\n",
       "      <th></th>\n",
       "      <th>tensor</th>\n",
       "      <th>transcript</th>\n",
       "    </tr>\n",
       "  </thead>\n",
       "  <tbody>\n",
       "  </tbody>\n",
       "</table>\n",
       "</div>"
      ],
      "text/plain": [
       "Empty DataFrame\n",
       "Columns: [tensor, transcript]\n",
       "Index: []"
      ]
     },
     "execution_count": 6,
     "metadata": {},
     "output_type": "execute_result"
    }
   ],
   "source": [
    "len_8000_waves_df = pd.DataFrame(len_8000_waves, columns = ['tensor', 'transcript'])\n",
    "len_8000_waves_df.head()"
   ]
  },
  {
   "cell_type": "markdown",
   "metadata": {},
   "source": [
    "Não temos nenhum arquivo com 8kHz..."
   ]
  },
  {
   "cell_type": "code",
   "execution_count": 7,
   "metadata": {},
   "outputs": [
    {
     "data": {
      "text/plain": [
       "[]"
      ]
     },
     "execution_count": 7,
     "metadata": {},
     "output_type": "execute_result"
    }
   ],
   "source": [
    "len_8000_waves"
   ]
  },
  {
   "cell_type": "markdown",
   "metadata": {},
   "source": [
    "# Arquitetura da rede neural"
   ]
  },
  {
   "cell_type": "markdown",
   "metadata": {},
   "source": [
    "Reshape arrays 2D para 3D pois o input para camada Conv1D deve ser um array 3D."
   ]
  },
  {
   "cell_type": "code",
   "execution_count": 8,
   "metadata": {},
   "outputs": [],
   "source": [
    "all_waves = np.array(all_waves).reshape(-1, len(all_waves), 1)\n",
    "len_8000_waves = np.array(len_8000_waves).reshape(-1, 8000, 1)"
   ]
  },
  {
   "cell_type": "markdown",
   "metadata": {},
   "source": [
    "Biblioteca para brincar com os hiperparâmetros da rede neural: https://scikit-learn.org/stable/modules/generated/sklearn.model_selection.GridSearchCV.html"
   ]
  },
  {
   "cell_type": "markdown",
   "metadata": {},
   "source": [
    "Criei um dicionário para facilitar a utilização dos hiperparâmetros da rede neural, mas ele usa tantos que talvez seja melhor separá-los de outra forma. Ainda estou estudando cada parâmetro para entender melhor o que ele fez."
   ]
  },
  {
   "cell_type": "code",
   "execution_count": 9,
   "metadata": {},
   "outputs": [],
   "source": [
    "hyperparams = {\n",
    "    'momentum': 0.99,\n",
    "    'epsilon': 1e-3,\n",
    "    'strides': 1,\n",
    "    'max_pooling': 3,\n",
    "    'dropout': 0.3,\n",
    "    'gru_batch_size': 128,\n",
    "    'padding': 'valid',\n",
    "    'activation_relu': 'relu',\n",
    "    'activation_softmax': 'softmax',\n",
    "    'merge_mode': 'sum',\n",
    "    'center': True,\n",
    "    'scale': True\n",
    "}"
   ]
  },
  {
   "cell_type": "code",
   "execution_count": 10,
   "metadata": {},
   "outputs": [],
   "source": [
    "def nn_architecture(len_wave_array, label_array):\n",
    "\n",
    "    K.clear_session()\n",
    "\n",
    "    inputs = Input(shape = (len_wave_array, 1))\n",
    "\n",
    "    # First Batch Normalization layer\n",
    "    x = BatchNormalization(\n",
    "        axis = -1, \n",
    "        momentum = hyperparams['momentum'], \n",
    "        epsilon = hyperparams['epsilon'], \n",
    "        center = hyperparams['center'], \n",
    "        scale = hyperparams['scale'] \n",
    "    )(inputs)\n",
    "\n",
    "    # First Conv1D layer\n",
    "    x = Conv1D(\n",
    "        8, 13, \n",
    "        padding = hyperparams['padding'], \n",
    "        activation = hyperparams['activation_relu'], \n",
    "        strides = hyperparams['strides']\n",
    "    )(x)\n",
    "    x = MaxPooling1D(hyperparams['max_pooling'])(x)\n",
    "    x = Dropout(hyperparams['dropout'])(x)\n",
    "\n",
    "    # Second Conv1D layer\n",
    "    x = Conv1D(\n",
    "        16, 11, \n",
    "        padding = hyperparams['padding'], \n",
    "        activation = hyperparams['activation_relu'], \n",
    "        strides = hyperparams['strides']\n",
    "    )(x)\n",
    "    x = MaxPooling1D(hyperparams['max_pooling'])(x)\n",
    "    x = Dropout(hyperparams['dropout'])(x)\n",
    "\n",
    "    # Third Conv1D layer\n",
    "    x = Conv1D(\n",
    "        32, 9, \n",
    "        padding = hyperparams['padding'], \n",
    "        activation = hyperparams['activation_relu'], \n",
    "        strides = hyperparams['strides']\n",
    "    )(x)\n",
    "    x = MaxPooling1D(hyperparams['max_pooling'])(x)\n",
    "    x = Dropout(hyperparams['dropout'])(x)\n",
    "\n",
    "    # Second Batch Normalization layer\n",
    "    x = BatchNormalization(\n",
    "        axis = -1, \n",
    "        momentum = hyperparams['momentum'], \n",
    "        epsilon = hyperparams['epsilon'], \n",
    "        center = hyperparams['center'], \n",
    "        scale = hyperparams['scale'] \n",
    "    )(x)\n",
    "\n",
    "    # Bidirectional GRUs\n",
    "    x = Bidirectional(GRU(hyperparams['gru_batch_size'], return_sequences = True), merge_mode = hyperparams['merge_mode'])(x)\n",
    "    x = Bidirectional(GRU(hyperparams['gru_batch_size'], return_sequences = True), merge_mode = hyperparams['merge_mode'])(x)\n",
    "    x = Bidirectional(GRU(hyperparams['gru_batch_size'], return_sequences = False), merge_mode = hyperparams['merge_mode'])(x)\n",
    "\n",
    "   # Third Batch Normalization layer\n",
    "    x = BatchNormalization(\n",
    "        axis = -1, \n",
    "        momentum = hyperparams['momentum'], \n",
    "        epsilon = hyperparams['epsilon'], \n",
    "        center = hyperparams['center'], \n",
    "        scale = hyperparams['scale'] \n",
    "    )(x)\n",
    "\n",
    "    # Dense Layer 1\n",
    "    x = Dense(256, activation = hyperparams['activation_relu'])(x)\n",
    "    outputs = Dense(len(label_array), activation = hyperparams['activation_softmax'])(x)\n",
    "\n",
    "    model = Model(inputs, outputs)\n",
    "    print(model.summary())\n",
    "\n",
    "    return model"
   ]
  },
  {
   "cell_type": "code",
   "execution_count": 11,
   "metadata": {},
   "outputs": [],
   "source": [
    "early_stop = EarlyStopping(\n",
    "    monitor = 'val_loss', \n",
    "    mode = 'min', \n",
    "    verbose = 1, \n",
    "    patience = 10, \n",
    "    min_delta = 0.0001\n",
    ")\n",
    "\n",
    "checkpoint = ModelCheckpoint(\n",
    "    'speech2text_model.hdf5', \n",
    "    monitor = 'val_acc', \n",
    "    verbose = 1, \n",
    "    save_best_only = True,\n",
    "    mode = 'max'\n",
    ")"
   ]
  },
  {
   "cell_type": "markdown",
   "metadata": {},
   "source": [
    "## Considerando apenas ondas de comprimento 8kHz\n",
    "Essa seção é praticamente um copia e cola do Github dele."
   ]
  },
  {
   "cell_type": "code",
   "execution_count": 12,
   "metadata": {},
   "outputs": [],
   "source": [
    "len_8000_labels = len_8000_waves_df['transcript'].values"
   ]
  },
  {
   "cell_type": "code",
   "execution_count": 13,
   "metadata": {},
   "outputs": [
    {
     "name": "stdout",
     "output_type": "stream",
     "text": [
      "Model: \"model\"\n",
      "_________________________________________________________________\n",
      " Layer (type)                Output Shape              Param #   \n",
      "=================================================================\n",
      " input_1 (InputLayer)        [(None, 8000, 1)]         0         \n",
      "                                                                 \n",
      " batch_normalization (BatchN  (None, 8000, 1)          4         \n",
      " ormalization)                                                   \n",
      "                                                                 \n",
      " conv1d (Conv1D)             (None, 7988, 8)           112       \n",
      "                                                                 \n",
      " max_pooling1d (MaxPooling1D  (None, 2662, 8)          0         \n",
      " )                                                               \n",
      "                                                                 \n",
      " dropout (Dropout)           (None, 2662, 8)           0         \n",
      "                                                                 \n",
      " conv1d_1 (Conv1D)           (None, 2652, 16)          1424      \n",
      "                                                                 \n",
      " max_pooling1d_1 (MaxPooling  (None, 884, 16)          0         \n",
      " 1D)                                                             \n",
      "                                                                 \n",
      " dropout_1 (Dropout)         (None, 884, 16)           0         \n",
      "                                                                 \n",
      " conv1d_2 (Conv1D)           (None, 876, 32)           4640      \n",
      "                                                                 \n",
      " max_pooling1d_2 (MaxPooling  (None, 292, 32)          0         \n",
      " 1D)                                                             \n",
      "                                                                 \n",
      " dropout_2 (Dropout)         (None, 292, 32)           0         \n",
      "                                                                 \n",
      " batch_normalization_1 (Batc  (None, 292, 32)          128       \n",
      " hNormalization)                                                 \n",
      "                                                                 \n",
      " bidirectional (Bidirectiona  (None, 292, 128)         124416    \n",
      " l)                                                              \n",
      "                                                                 \n",
      " bidirectional_1 (Bidirectio  (None, 292, 128)         198144    \n",
      " nal)                                                            \n",
      "                                                                 \n",
      " bidirectional_2 (Bidirectio  (None, 128)              198144    \n",
      " nal)                                                            \n",
      "                                                                 \n",
      " batch_normalization_2 (Batc  (None, 128)              512       \n",
      " hNormalization)                                                 \n",
      "                                                                 \n",
      " dense (Dense)               (None, 256)               33024     \n",
      "                                                                 \n",
      " dense_1 (Dense)             (None, 0)                 0         \n",
      "                                                                 \n",
      "=================================================================\n",
      "Total params: 560,548\n",
      "Trainable params: 560,226\n",
      "Non-trainable params: 322\n",
      "_________________________________________________________________\n",
      "None\n"
     ]
    },
    {
     "data": {
      "text/plain": [
       "<keras.engine.functional.Functional at 0x14ea10d4490>"
      ]
     },
     "execution_count": 13,
     "metadata": {},
     "output_type": "execute_result"
    }
   ],
   "source": [
    "len_8000_model = nn_architecture(8000, len_8000_labels)\n",
    "len_8000_model"
   ]
  },
  {
   "cell_type": "markdown",
   "metadata": {},
   "source": [
    "A função de perda foi definida como \"entropia cruzada categórica\" pois se tratava de um problema de multi-classificação.\n",
    "Esse link fala sobre funções de perda, mas ainda preciso dar uma estudada melhor no assunto: https://ml-cheatsheet.readthedocs.io/en/latest/loss_functions.html."
   ]
  },
  {
   "cell_type": "code",
   "execution_count": 14,
   "metadata": {},
   "outputs": [],
   "source": [
    "len_8000_model.compile(loss = 'categorical_crossentropy', optimizer = 'nadam', metrics = ['accuracy'])"
   ]
  },
  {
   "cell_type": "code",
   "execution_count": 16,
   "metadata": {},
   "outputs": [],
   "source": [
    "# len_8000_label_enconder = LabelEncoder()\n",
    "# len_8000_y = label_enconder.fit_transform(len_8000_labels) -> comentado porque não há elementos em len_8000_waves\n",
    "\n",
    "# len_8000_classes = list(len_8000_label_enconder.classes_)\n",
    "# len_8000_y = np_utils.to_categorical(len_8000_y, num_classes = len(len_8000_labels)) -> comentado porque não há elementos em len_8000_waves"
   ]
  },
  {
   "cell_type": "markdown",
   "metadata": {},
   "source": [
    "Nas células abaixo ele chama x_train, y_train e x_valid, y_valid.\n",
    "Entendi que x_valid, y_valid é o que costumamos chamar de x_test, y_test.\n",
    "Mas ele já disponibilizou os datasets divididos em treino e teste, então não soube direito o que colocar nessas quatro variáveis. "
   ]
  },
  {
   "cell_type": "markdown",
   "metadata": {},
   "source": [
    "Célula abaixo resulta em erro porque não há elementos em len_8000_waves."
   ]
  },
  {
   "cell_type": "code",
   "execution_count": 17,
   "metadata": {},
   "outputs": [],
   "source": [
    "# len_8000_x_train, len_8000_x_valid, len_8000_y_train, len_8000_y_valid = train_test_split(\n",
    "#     np.array(len_8000_waves),\n",
    "#     np.array(len_8000_y),\n",
    "#     # stratify = y, -> comentado porque nossas \"classes\" têm apenas 1 elemento cada, e para stratify precisa de pelo menos 2\n",
    "#     test_size = 0.2,\n",
    "#     random_state = 777,\n",
    "#     shuffle = True\n",
    "# )"
   ]
  },
  {
   "cell_type": "markdown",
   "metadata": {},
   "source": [
    "Célula abaixo estava demorando demais para rodar, então comentei."
   ]
  },
  {
   "cell_type": "code",
   "execution_count": 18,
   "metadata": {},
   "outputs": [],
   "source": [
    "# hist = len_8000_model.fit(\n",
    "#     x = np.asarray(len_8000_x_train).astype('float32'), \n",
    "#     y = np.asarray(len_8000_y_train).astype('float32'),\n",
    "#     epochs = 100, \n",
    "#     callbacks = [early_stop, checkpoint], \n",
    "#     batch_size = 32, \n",
    "#     validation_data = (len_8000_x_valid, len_8000_y_valid)\n",
    "# )"
   ]
  },
  {
   "cell_type": "markdown",
   "metadata": {},
   "source": [
    "## Considerando todas as ondas\n",
    "Mesma lógica da seção acima, mas trocando tudo que tem \"len_8000_\" para \"all_\"."
   ]
  },
  {
   "cell_type": "code",
   "execution_count": 19,
   "metadata": {},
   "outputs": [],
   "source": [
    "all_labels = all_waves_df['transcript'].values"
   ]
  },
  {
   "cell_type": "code",
   "execution_count": 20,
   "metadata": {},
   "outputs": [
    {
     "name": "stdout",
     "output_type": "stream",
     "text": [
      "Model: \"model\"\n",
      "_________________________________________________________________\n",
      " Layer (type)                Output Shape              Param #   \n",
      "=================================================================\n",
      " input_1 (InputLayer)        [(None, 3024, 1)]         0         \n",
      "                                                                 \n",
      " batch_normalization (BatchN  (None, 3024, 1)          4         \n",
      " ormalization)                                                   \n",
      "                                                                 \n",
      " conv1d (Conv1D)             (None, 3012, 8)           112       \n",
      "                                                                 \n",
      " max_pooling1d (MaxPooling1D  (None, 1004, 8)          0         \n",
      " )                                                               \n",
      "                                                                 \n",
      " dropout (Dropout)           (None, 1004, 8)           0         \n",
      "                                                                 \n",
      " conv1d_1 (Conv1D)           (None, 994, 16)           1424      \n",
      "                                                                 \n",
      " max_pooling1d_1 (MaxPooling  (None, 331, 16)          0         \n",
      " 1D)                                                             \n",
      "                                                                 \n",
      " dropout_1 (Dropout)         (None, 331, 16)           0         \n",
      "                                                                 \n",
      " conv1d_2 (Conv1D)           (None, 323, 32)           4640      \n",
      "                                                                 \n",
      " max_pooling1d_2 (MaxPooling  (None, 107, 32)          0         \n",
      " 1D)                                                             \n",
      "                                                                 \n",
      " dropout_2 (Dropout)         (None, 107, 32)           0         \n",
      "                                                                 \n",
      " batch_normalization_1 (Batc  (None, 107, 32)          128       \n",
      " hNormalization)                                                 \n",
      "                                                                 \n",
      " bidirectional (Bidirectiona  (None, 107, 128)         124416    \n",
      " l)                                                              \n",
      "                                                                 \n",
      " bidirectional_1 (Bidirectio  (None, 107, 128)         198144    \n",
      " nal)                                                            \n",
      "                                                                 \n",
      " bidirectional_2 (Bidirectio  (None, 128)              198144    \n",
      " nal)                                                            \n",
      "                                                                 \n",
      " batch_normalization_2 (Batc  (None, 128)              512       \n",
      " hNormalization)                                                 \n",
      "                                                                 \n",
      " dense (Dense)               (None, 256)               33024     \n",
      "                                                                 \n",
      " dense_1 (Dense)             (None, 3024)              777168    \n",
      "                                                                 \n",
      "=================================================================\n",
      "Total params: 1,337,716\n",
      "Trainable params: 1,337,394\n",
      "Non-trainable params: 322\n",
      "_________________________________________________________________\n",
      "None\n"
     ]
    },
    {
     "data": {
      "text/plain": [
       "<keras.engine.functional.Functional at 0x14ed33b8d60>"
      ]
     },
     "execution_count": 20,
     "metadata": {},
     "output_type": "execute_result"
    }
   ],
   "source": [
    "all_waves_model = nn_architecture(len(all_labels), all_labels)\n",
    "all_waves_model"
   ]
  },
  {
   "cell_type": "code",
   "execution_count": 21,
   "metadata": {},
   "outputs": [],
   "source": [
    "all_waves_model.compile(loss = 'categorical_crossentropy', optimizer = 'nadam', metrics = ['accuracy'])"
   ]
  },
  {
   "cell_type": "code",
   "execution_count": 22,
   "metadata": {},
   "outputs": [],
   "source": [
    "all_waves_label_enconder = LabelEncoder()\n",
    "all_waves_y = all_waves_label_enconder.fit_transform(all_labels)\n",
    "\n",
    "all_waves_classes = list(all_waves_label_enconder.classes_)\n",
    "all_waves_y = np_utils.to_categorical(all_waves_y, num_classes = len(all_labels))"
   ]
  },
  {
   "cell_type": "code",
   "execution_count": 23,
   "metadata": {},
   "outputs": [],
   "source": [
    "all_waves_x_train, all_waves_x_test, all_waves_y_train, all_waves_y_test = train_test_split(\n",
    "    np.array(all_waves_df['tensor'].values),\n",
    "    np.array(all_waves_y),\n",
    "    test_size = 0.2,\n",
    "    random_state = 777,\n",
    "    shuffle = True\n",
    ")"
   ]
  },
  {
   "cell_type": "markdown",
   "metadata": {},
   "source": [
    "A célula abaixou rodou por 15min e não printou nada..."
   ]
  },
  {
   "cell_type": "code",
   "execution_count": 24,
   "metadata": {},
   "outputs": [],
   "source": [
    "hist = all_waves_model.fit(\n",
    "    x = np.asarray(all_waves_x_train).astype('float32'), \n",
    "    y = np.asarray(all_waves_y_train).astype('float32'),\n",
    "    epochs = 100, \n",
    "    callbacks = [early_stop, checkpoint], \n",
    "    batch_size = 32, \n",
    "    validation_data = (all_waves_x_test, all_waves_y_test)\n",
    ")"
   ]
  },
  {
   "cell_type": "code",
   "execution_count": null,
   "metadata": {},
   "outputs": [],
   "source": [
    "plt.plot(hist.history['loss'], label = 'train')\n",
    "plt.plot(hist.history['val_loss'], label = 'test')\n",
    "plt.legend()\n",
    "plt.show()"
   ]
  }
 ],
 "metadata": {
  "kernelspec": {
   "display_name": "Python 3.9.9 64-bit",
   "language": "python",
   "name": "python3"
  },
  "language_info": {
   "codemirror_mode": {
    "name": "ipython",
    "version": 3
   },
   "file_extension": ".py",
   "mimetype": "text/x-python",
   "name": "python",
   "nbconvert_exporter": "python",
   "pygments_lexer": "ipython3",
   "version": "3.9.9"
  },
  "orig_nbformat": 4,
  "vscode": {
   "interpreter": {
    "hash": "cf92aa13fedf815d5c8dd192b8d835913fde3e8bc926b2a0ad6cc74ef2ba3ca2"
   }
  }
 },
 "nbformat": 4,
 "nbformat_minor": 2
}
